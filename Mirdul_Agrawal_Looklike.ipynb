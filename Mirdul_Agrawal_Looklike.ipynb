{
 "cells": [
  {
   "cell_type": "code",
   "execution_count": 1,
   "id": "5f585afd-3647-4e58-8a44-21164e282d2c",
   "metadata": {},
   "outputs": [],
   "source": [
    "import pandas as pd\n",
    "import numpy as np\n",
    "from sklearn.preprocessing import StandardScaler, OneHotEncoder\n",
    "from sklearn.compose import ColumnTransformer\n",
    "from sklearn.metrics.pairwise import cosine_similarity\n",
    "import json"
   ]
  },
  {
   "cell_type": "code",
   "execution_count": 2,
   "id": "391fb822-c0ec-495b-994e-d8eddfd9b63a",
   "metadata": {},
   "outputs": [],
   "source": [
    "customers = pd.read_csv(\"Customers.csv\")\n",
    "products = pd.read_csv(\"Products.csv\")\n",
    "transactions = pd.read_csv(\"Transactions.csv\")"
   ]
  },
  {
   "cell_type": "code",
   "execution_count": 3,
   "id": "cb16ef93-4100-4744-b1a7-fa27087361d3",
   "metadata": {
    "jupyter": {
     "source_hidden": true
    }
   },
   "outputs": [],
   "source": [
    "merged_df = transactions.merge(customers, on=\"CustomerID\").merge(products, on=\"ProductID\")\n"
   ]
  },
  {
   "cell_type": "code",
   "execution_count": 4,
   "id": "9021e323-a67a-416e-b795-433ac1619b83",
   "metadata": {},
   "outputs": [],
   "source": [
    "customer_profiles = merged_df.groupby('CustomerID').agg({\n",
    "    'TotalValue': 'sum',           # Total spending\n",
    "    'Quantity': 'sum',             # Total quantity purchased\n",
    "    'ProductID': 'nunique',        # Number of unique products purchased\n",
    "    'Category': lambda x: x.mode()[0] if not x.mode().empty else None,  # Most purchased category\n",
    "    'Region': 'first',             # Region (from customer data)\n",
    "}).reset_index()"
   ]
  },
  {
   "cell_type": "code",
   "execution_count": 5,
   "id": "eaef925f-1c38-403d-ad75-42805169d18d",
   "metadata": {},
   "outputs": [],
   "source": [
    "numeric_features = ['TotalValue', 'Quantity', 'ProductID']\n",
    "categorical_features = ['Region', 'Category']"
   ]
  },
  {
   "cell_type": "code",
   "execution_count": 6,
   "id": "fc6e136c-3886-49d2-8b8c-bc737ecd651f",
   "metadata": {},
   "outputs": [],
   "source": [
    "transformer = ColumnTransformer(\n",
    "    transformers=[\n",
    "        ('num', StandardScaler(), numeric_features),\n",
    "        ('cat', OneHotEncoder(), categorical_features)\n",
    "    ]\n",
    ")"
   ]
  },
  {
   "cell_type": "code",
   "execution_count": 7,
   "id": "82781774-1adb-4afe-b199-fd88b90b21a6",
   "metadata": {},
   "outputs": [],
   "source": [
    "customer_features = transformer.fit_transform(customer_profiles)"
   ]
  },
  {
   "cell_type": "code",
   "execution_count": 8,
   "id": "c02344f8-957b-4da8-9dd5-1aa873ca45a3",
   "metadata": {},
   "outputs": [],
   "source": [
    "similarity_matrix = cosine_similarity(customer_features)"
   ]
  },
  {
   "cell_type": "code",
   "execution_count": 9,
   "id": "82d02fbd-7e11-4d85-9386-d04464c43f27",
   "metadata": {},
   "outputs": [],
   "source": [
    "lookalike_map = {}\n",
    "for idx, customer_id in enumerate(customer_profiles['CustomerID']):\n",
    "    # Get the indices of the top 3 most similar customers (excluding the customer themselves)\n",
    "    similar_indices = similarity_matrix[idx].argsort()[::-1][1:4]\n",
    "    lookalike_map[customer_id] = [\n",
    "        (customer_profiles.iloc[i]['CustomerID'], similarity_matrix[idx][i])\n",
    "        for i in similar_indices\n",
    "    ]"
   ]
  },
  {
   "cell_type": "code",
   "execution_count": 10,
   "id": "7e778065-d7eb-4421-beba-3c2b6faf9b53",
   "metadata": {},
   "outputs": [],
   "source": [
    "lookalike_df = pd.DataFrame([\n",
    "    {\n",
    "        'cust_id': cust_id,\n",
    "        'lookalikes': json.dumps([\n",
    "            {'customer_id': lookalike[0], 'score': round(lookalike[1], 2)}\n",
    "            for lookalike in lookalikes\n",
    "        ])\n",
    "    }\n",
    "    for cust_id, lookalikes in lookalike_map.items()\n",
    "])\n"
   ]
  },
  {
   "cell_type": "code",
   "execution_count": 13,
   "id": "fc1647e1-e26a-4f67-b6d8-5bf86fa5fb47",
   "metadata": {},
   "outputs": [],
   "source": [
    "lookalike_df.to_csv('Mirdul_Agrawal_Looklike.csv', index=False)"
   ]
  },
  {
   "cell_type": "code",
   "execution_count": 12,
   "id": "35283ca0-fe60-4c98-8b88-d9c2ba116646",
   "metadata": {},
   "outputs": [
    {
     "data": {
      "text/html": [
       "<div>\n",
       "<style scoped>\n",
       "    .dataframe tbody tr th:only-of-type {\n",
       "        vertical-align: middle;\n",
       "    }\n",
       "\n",
       "    .dataframe tbody tr th {\n",
       "        vertical-align: top;\n",
       "    }\n",
       "\n",
       "    .dataframe thead th {\n",
       "        text-align: right;\n",
       "    }\n",
       "</style>\n",
       "<table border=\"1\" class=\"dataframe\">\n",
       "  <thead>\n",
       "    <tr style=\"text-align: right;\">\n",
       "      <th></th>\n",
       "      <th>cust_id</th>\n",
       "      <th>lookalikes</th>\n",
       "    </tr>\n",
       "  </thead>\n",
       "  <tbody>\n",
       "    <tr>\n",
       "      <th>0</th>\n",
       "      <td>C0001</td>\n",
       "      <td>[{\"customer_id\": \"C0048\", \"score\": 0.98}, {\"cu...</td>\n",
       "    </tr>\n",
       "    <tr>\n",
       "      <th>1</th>\n",
       "      <td>C0002</td>\n",
       "      <td>[{\"customer_id\": \"C0088\", \"score\": 0.96}, {\"cu...</td>\n",
       "    </tr>\n",
       "    <tr>\n",
       "      <th>2</th>\n",
       "      <td>C0003</td>\n",
       "      <td>[{\"customer_id\": \"C0031\", \"score\": 0.9}, {\"cus...</td>\n",
       "    </tr>\n",
       "    <tr>\n",
       "      <th>3</th>\n",
       "      <td>C0004</td>\n",
       "      <td>[{\"customer_id\": \"C0087\", \"score\": 0.96}, {\"cu...</td>\n",
       "    </tr>\n",
       "    <tr>\n",
       "      <th>4</th>\n",
       "      <td>C0005</td>\n",
       "      <td>[{\"customer_id\": \"C0186\", \"score\": 1.0}, {\"cus...</td>\n",
       "    </tr>\n",
       "    <tr>\n",
       "      <th>5</th>\n",
       "      <td>C0006</td>\n",
       "      <td>[{\"customer_id\": \"C0168\", \"score\": 0.97}, {\"cu...</td>\n",
       "    </tr>\n",
       "    <tr>\n",
       "      <th>6</th>\n",
       "      <td>C0007</td>\n",
       "      <td>[{\"customer_id\": \"C0005\", \"score\": 0.99}, {\"cu...</td>\n",
       "    </tr>\n",
       "    <tr>\n",
       "      <th>7</th>\n",
       "      <td>C0008</td>\n",
       "      <td>[{\"customer_id\": \"C0065\", \"score\": 0.88}, {\"cu...</td>\n",
       "    </tr>\n",
       "    <tr>\n",
       "      <th>8</th>\n",
       "      <td>C0009</td>\n",
       "      <td>[{\"customer_id\": \"C0198\", \"score\": 0.99}, {\"cu...</td>\n",
       "    </tr>\n",
       "    <tr>\n",
       "      <th>9</th>\n",
       "      <td>C0010</td>\n",
       "      <td>[{\"customer_id\": \"C0111\", \"score\": 0.89}, {\"cu...</td>\n",
       "    </tr>\n",
       "    <tr>\n",
       "      <th>10</th>\n",
       "      <td>C0011</td>\n",
       "      <td>[{\"customer_id\": \"C0137\", \"score\": 0.96}, {\"cu...</td>\n",
       "    </tr>\n",
       "    <tr>\n",
       "      <th>11</th>\n",
       "      <td>C0012</td>\n",
       "      <td>[{\"customer_id\": \"C0163\", \"score\": 0.97}, {\"cu...</td>\n",
       "    </tr>\n",
       "    <tr>\n",
       "      <th>12</th>\n",
       "      <td>C0013</td>\n",
       "      <td>[{\"customer_id\": \"C0099\", \"score\": 0.99}, {\"cu...</td>\n",
       "    </tr>\n",
       "    <tr>\n",
       "      <th>13</th>\n",
       "      <td>C0014</td>\n",
       "      <td>[{\"customer_id\": \"C0060\", \"score\": 1.0}, {\"cus...</td>\n",
       "    </tr>\n",
       "    <tr>\n",
       "      <th>14</th>\n",
       "      <td>C0015</td>\n",
       "      <td>[{\"customer_id\": \"C0131\", \"score\": 0.98}, {\"cu...</td>\n",
       "    </tr>\n",
       "    <tr>\n",
       "      <th>15</th>\n",
       "      <td>C0016</td>\n",
       "      <td>[{\"customer_id\": \"C0183\", \"score\": 0.98}, {\"cu...</td>\n",
       "    </tr>\n",
       "    <tr>\n",
       "      <th>16</th>\n",
       "      <td>C0017</td>\n",
       "      <td>[{\"customer_id\": \"C0075\", \"score\": 0.97}, {\"cu...</td>\n",
       "    </tr>\n",
       "    <tr>\n",
       "      <th>17</th>\n",
       "      <td>C0018</td>\n",
       "      <td>[{\"customer_id\": \"C0046\", \"score\": 0.9}, {\"cus...</td>\n",
       "    </tr>\n",
       "    <tr>\n",
       "      <th>18</th>\n",
       "      <td>C0019</td>\n",
       "      <td>[{\"customer_id\": \"C0081\", \"score\": 0.85}, {\"cu...</td>\n",
       "    </tr>\n",
       "    <tr>\n",
       "      <th>19</th>\n",
       "      <td>C0020</td>\n",
       "      <td>[{\"customer_id\": \"C0058\", \"score\": 0.9}, {\"cus...</td>\n",
       "    </tr>\n",
       "  </tbody>\n",
       "</table>\n",
       "</div>"
      ],
      "text/plain": [
       "   cust_id                                         lookalikes\n",
       "0    C0001  [{\"customer_id\": \"C0048\", \"score\": 0.98}, {\"cu...\n",
       "1    C0002  [{\"customer_id\": \"C0088\", \"score\": 0.96}, {\"cu...\n",
       "2    C0003  [{\"customer_id\": \"C0031\", \"score\": 0.9}, {\"cus...\n",
       "3    C0004  [{\"customer_id\": \"C0087\", \"score\": 0.96}, {\"cu...\n",
       "4    C0005  [{\"customer_id\": \"C0186\", \"score\": 1.0}, {\"cus...\n",
       "5    C0006  [{\"customer_id\": \"C0168\", \"score\": 0.97}, {\"cu...\n",
       "6    C0007  [{\"customer_id\": \"C0005\", \"score\": 0.99}, {\"cu...\n",
       "7    C0008  [{\"customer_id\": \"C0065\", \"score\": 0.88}, {\"cu...\n",
       "8    C0009  [{\"customer_id\": \"C0198\", \"score\": 0.99}, {\"cu...\n",
       "9    C0010  [{\"customer_id\": \"C0111\", \"score\": 0.89}, {\"cu...\n",
       "10   C0011  [{\"customer_id\": \"C0137\", \"score\": 0.96}, {\"cu...\n",
       "11   C0012  [{\"customer_id\": \"C0163\", \"score\": 0.97}, {\"cu...\n",
       "12   C0013  [{\"customer_id\": \"C0099\", \"score\": 0.99}, {\"cu...\n",
       "13   C0014  [{\"customer_id\": \"C0060\", \"score\": 1.0}, {\"cus...\n",
       "14   C0015  [{\"customer_id\": \"C0131\", \"score\": 0.98}, {\"cu...\n",
       "15   C0016  [{\"customer_id\": \"C0183\", \"score\": 0.98}, {\"cu...\n",
       "16   C0017  [{\"customer_id\": \"C0075\", \"score\": 0.97}, {\"cu...\n",
       "17   C0018  [{\"customer_id\": \"C0046\", \"score\": 0.9}, {\"cus...\n",
       "18   C0019  [{\"customer_id\": \"C0081\", \"score\": 0.85}, {\"cu...\n",
       "19   C0020  [{\"customer_id\": \"C0058\", \"score\": 0.9}, {\"cus..."
      ]
     },
     "execution_count": 12,
     "metadata": {},
     "output_type": "execute_result"
    }
   ],
   "source": [
    "lookalike_df.head(20)"
   ]
  },
  {
   "cell_type": "code",
   "execution_count": null,
   "id": "589fbbc2-f05e-4833-9301-03f8bd6b24da",
   "metadata": {},
   "outputs": [],
   "source": []
  }
 ],
 "metadata": {
  "kernelspec": {
   "display_name": "Python 3 (ipykernel)",
   "language": "python",
   "name": "python3"
  },
  "language_info": {
   "codemirror_mode": {
    "name": "ipython",
    "version": 3
   },
   "file_extension": ".py",
   "mimetype": "text/x-python",
   "name": "python",
   "nbconvert_exporter": "python",
   "pygments_lexer": "ipython3",
   "version": "3.13.1"
  }
 },
 "nbformat": 4,
 "nbformat_minor": 5
}
